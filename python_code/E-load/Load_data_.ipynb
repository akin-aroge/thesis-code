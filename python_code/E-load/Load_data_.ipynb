{
 "cells": [
  {
   "cell_type": "code",
   "execution_count": 2,
   "metadata": {
    "collapsed": true
   },
   "outputs": [],
   "source": [
    "import pandas as pd\n",
    "import numpy as np\n",
    "import matplotlib.pyplot as plt\n",
    "import os\n",
    "%matplotlib inline"
   ]
  },
  {
   "cell_type": "code",
   "execution_count": 3,
   "metadata": {
    "collapsed": true
   },
   "outputs": [],
   "source": [
    "fig_dir = r\"C:\\Users\\Fabusuyi\\Documents\\Work _UCT\\PG\\Write_Up\\figs\\load_paper\"\n",
    "def save_figure(fname, obj, dir=fig_dir):\n",
    "    \"\"\"wrapper to save figure in desied directory\"\"\"\n",
    "    path = os.path.join(os.path.normpath(fig_dir), fname)\n",
    "    obj.savefig(path)"
   ]
  },
  {
   "cell_type": "code",
   "execution_count": 5,
   "metadata": {},
   "outputs": [
    {
     "data": {
      "text/html": [
       "<div>\n",
       "<style>\n",
       "    .dataframe thead tr:only-child th {\n",
       "        text-align: right;\n",
       "    }\n",
       "\n",
       "    .dataframe thead th {\n",
       "        text-align: left;\n",
       "    }\n",
       "\n",
       "    .dataframe tbody tr th {\n",
       "        vertical-align: top;\n",
       "    }\n",
       "</style>\n",
       "<table border=\"1\" class=\"dataframe\">\n",
       "  <thead>\n",
       "    <tr style=\"text-align: right;\">\n",
       "      <th></th>\n",
       "      <th>v_gs</th>\n",
       "      <th>i_ds</th>\n",
       "      <th>v_pot</th>\n",
       "      <th>v_sense</th>\n",
       "    </tr>\n",
       "  </thead>\n",
       "  <tbody>\n",
       "    <tr>\n",
       "      <th>0</th>\n",
       "      <td>3.513</td>\n",
       "      <td>0.060</td>\n",
       "      <td>0.001</td>\n",
       "      <td>0.003</td>\n",
       "    </tr>\n",
       "    <tr>\n",
       "      <th>1</th>\n",
       "      <td>3.612</td>\n",
       "      <td>0.012</td>\n",
       "      <td>0.020</td>\n",
       "      <td>0.005</td>\n",
       "    </tr>\n",
       "    <tr>\n",
       "      <th>2</th>\n",
       "      <td>3.650</td>\n",
       "      <td>0.550</td>\n",
       "      <td>0.148</td>\n",
       "      <td>0.024</td>\n",
       "    </tr>\n",
       "    <tr>\n",
       "      <th>3</th>\n",
       "      <td>3.725</td>\n",
       "      <td>0.680</td>\n",
       "      <td>0.188</td>\n",
       "      <td>0.030</td>\n",
       "    </tr>\n",
       "    <tr>\n",
       "      <th>4</th>\n",
       "      <td>3.725</td>\n",
       "      <td>0.890</td>\n",
       "      <td>0.249</td>\n",
       "      <td>0.039</td>\n",
       "    </tr>\n",
       "  </tbody>\n",
       "</table>\n",
       "</div>"
      ],
      "text/plain": [
       "    v_gs   i_ds  v_pot  v_sense\n",
       "0  3.513  0.060  0.001    0.003\n",
       "1  3.612  0.012  0.020    0.005\n",
       "2  3.650  0.550  0.148    0.024\n",
       "3  3.725  0.680  0.188    0.030\n",
       "4  3.725  0.890  0.249    0.039"
      ]
     },
     "execution_count": 5,
     "metadata": {},
     "output_type": "execute_result"
    }
   ],
   "source": [
    "dt_1 = pd.read_csv('C:/Users/Fabusuyi/Documents/Work _UCT/PG/LTSpice/Electronic Load/load_test/load_measure_1.csv')\n",
    "dt_1.head()"
   ]
  },
  {
   "cell_type": "code",
   "execution_count": 6,
   "metadata": {},
   "outputs": [
    {
     "data": {
      "text/plain": [
       "(15, 4)"
      ]
     },
     "execution_count": 6,
     "metadata": {},
     "output_type": "execute_result"
    }
   ],
   "source": [
    "dt_1.shape"
   ]
  },
  {
   "cell_type": "code",
   "execution_count": 7,
   "metadata": {},
   "outputs": [
    {
     "data": {
      "text/plain": [
       "[<matplotlib.lines.Line2D at 0x1e57a6e6cf8>]"
      ]
     },
     "execution_count": 7,
     "metadata": {},
     "output_type": "execute_result"
    },
    {
     "data": {
      "image/png": "[encoded data removed]",
      "text/plain": [
       "<matplotlib.figure.Figure at 0x1e57a317080>"
      ]
     },
     "metadata": {},
     "output_type": "display_data"
    }
   ],
   "source": [
    "plt.plot(dt_1.v_pot, dt_1.v_sense)\n"
   ]
  },
  {
   "cell_type": "markdown",
   "metadata": {},
   "source": [
    "__More cleaning__"
   ]
  },
  {
   "cell_type": "code",
   "execution_count": 8,
   "metadata": {},
   "outputs": [
    {
     "data": {
      "text/plain": [
       "v_gs       0\n",
       "i_ds       0\n",
       "v_pot      0\n",
       "v_sense    0\n",
       "dtype: int64"
      ]
     },
     "execution_count": 8,
     "metadata": {},
     "output_type": "execute_result"
    }
   ],
   "source": [
    "dt_1_clean = dt_1.dropna()\n",
    "np.sum(dt_1_clean.isnull())"
   ]
  },
  {
   "cell_type": "code",
   "execution_count": 9,
   "metadata": {},
   "outputs": [
    {
     "data": {
      "text/html": [
       "<div>\n",
       "<style>\n",
       "    .dataframe thead tr:only-child th {\n",
       "        text-align: right;\n",
       "    }\n",
       "\n",
       "    .dataframe thead th {\n",
       "        text-align: left;\n",
       "    }\n",
       "\n",
       "    .dataframe tbody tr th {\n",
       "        vertical-align: top;\n",
       "    }\n",
       "</style>\n",
       "<table border=\"1\" class=\"dataframe\">\n",
       "  <thead>\n",
       "    <tr style=\"text-align: right;\">\n",
       "      <th></th>\n",
       "      <th>v_gs</th>\n",
       "      <th>i_ds</th>\n",
       "      <th>v_pot</th>\n",
       "      <th>v_sense</th>\n",
       "    </tr>\n",
       "  </thead>\n",
       "  <tbody>\n",
       "    <tr>\n",
       "      <th>0</th>\n",
       "      <td>3.5130</td>\n",
       "      <td>0.060</td>\n",
       "      <td>0.001</td>\n",
       "      <td>0.003</td>\n",
       "    </tr>\n",
       "    <tr>\n",
       "      <th>1</th>\n",
       "      <td>3.6120</td>\n",
       "      <td>0.012</td>\n",
       "      <td>0.020</td>\n",
       "      <td>0.005</td>\n",
       "    </tr>\n",
       "    <tr>\n",
       "      <th>2</th>\n",
       "      <td>3.6500</td>\n",
       "      <td>0.550</td>\n",
       "      <td>0.148</td>\n",
       "      <td>0.024</td>\n",
       "    </tr>\n",
       "    <tr>\n",
       "      <th>3</th>\n",
       "      <td>3.7250</td>\n",
       "      <td>0.680</td>\n",
       "      <td>0.188</td>\n",
       "      <td>0.030</td>\n",
       "    </tr>\n",
       "    <tr>\n",
       "      <th>4</th>\n",
       "      <td>3.7250</td>\n",
       "      <td>0.890</td>\n",
       "      <td>0.249</td>\n",
       "      <td>0.039</td>\n",
       "    </tr>\n",
       "    <tr>\n",
       "      <th>5</th>\n",
       "      <td>3.7300</td>\n",
       "      <td>1.010</td>\n",
       "      <td>0.286</td>\n",
       "      <td>0.045</td>\n",
       "    </tr>\n",
       "    <tr>\n",
       "      <th>6</th>\n",
       "      <td>3.7200</td>\n",
       "      <td>1.190</td>\n",
       "      <td>0.341</td>\n",
       "      <td>0.053</td>\n",
       "    </tr>\n",
       "    <tr>\n",
       "      <th>7</th>\n",
       "      <td>3.7500</td>\n",
       "      <td>1.330</td>\n",
       "      <td>0.380</td>\n",
       "      <td>0.058</td>\n",
       "    </tr>\n",
       "    <tr>\n",
       "      <th>8</th>\n",
       "      <td>3.7000</td>\n",
       "      <td>1.560</td>\n",
       "      <td>0.448</td>\n",
       "      <td>0.068</td>\n",
       "    </tr>\n",
       "    <tr>\n",
       "      <th>9</th>\n",
       "      <td>3.7250</td>\n",
       "      <td>1.820</td>\n",
       "      <td>0.529</td>\n",
       "      <td>0.080</td>\n",
       "    </tr>\n",
       "    <tr>\n",
       "      <th>10</th>\n",
       "      <td>3.7200</td>\n",
       "      <td>1.990</td>\n",
       "      <td>0.580</td>\n",
       "      <td>0.088</td>\n",
       "    </tr>\n",
       "    <tr>\n",
       "      <th>11</th>\n",
       "      <td>3.7125</td>\n",
       "      <td>2.140</td>\n",
       "      <td>0.625</td>\n",
       "      <td>0.094</td>\n",
       "    </tr>\n",
       "    <tr>\n",
       "      <th>12</th>\n",
       "      <td>3.6625</td>\n",
       "      <td>2.450</td>\n",
       "      <td>0.719</td>\n",
       "      <td>0.108</td>\n",
       "    </tr>\n",
       "    <tr>\n",
       "      <th>13</th>\n",
       "      <td>3.6250</td>\n",
       "      <td>2.900</td>\n",
       "      <td>0.853</td>\n",
       "      <td>0.127</td>\n",
       "    </tr>\n",
       "    <tr>\n",
       "      <th>14</th>\n",
       "      <td>3.7200</td>\n",
       "      <td>2.950</td>\n",
       "      <td>0.871</td>\n",
       "      <td>0.130</td>\n",
       "    </tr>\n",
       "  </tbody>\n",
       "</table>\n",
       "</div>"
      ],
      "text/plain": [
       "      v_gs   i_ds  v_pot  v_sense\n",
       "0   3.5130  0.060  0.001    0.003\n",
       "1   3.6120  0.012  0.020    0.005\n",
       "2   3.6500  0.550  0.148    0.024\n",
       "3   3.7250  0.680  0.188    0.030\n",
       "4   3.7250  0.890  0.249    0.039\n",
       "5   3.7300  1.010  0.286    0.045\n",
       "6   3.7200  1.190  0.341    0.053\n",
       "7   3.7500  1.330  0.380    0.058\n",
       "8   3.7000  1.560  0.448    0.068\n",
       "9   3.7250  1.820  0.529    0.080\n",
       "10  3.7200  1.990  0.580    0.088\n",
       "11  3.7125  2.140  0.625    0.094\n",
       "12  3.6625  2.450  0.719    0.108\n",
       "13  3.6250  2.900  0.853    0.127\n",
       "14  3.7200  2.950  0.871    0.130"
      ]
     },
     "execution_count": 9,
     "metadata": {},
     "output_type": "execute_result"
    }
   ],
   "source": [
    "dt_1_clean.reset_index(drop=1)"
   ]
  },
  {
   "cell_type": "code",
   "execution_count": 10,
   "metadata": {},
   "outputs": [
    {
     "data": {
      "text/plain": [
       "(15, 1)"
      ]
     },
     "execution_count": 10,
     "metadata": {},
     "output_type": "execute_result"
    }
   ],
   "source": [
    "X = dt_1_clean.v_pot.values[:, np.newaxis]\n",
    "X.shape"
   ]
  },
  {
   "cell_type": "code",
   "execution_count": 11,
   "metadata": {},
   "outputs": [
    {
     "data": {
      "text/plain": [
       "(15,)"
      ]
     },
     "execution_count": 11,
     "metadata": {},
     "output_type": "execute_result"
    }
   ],
   "source": [
    "y = dt_1_clean.v_sense\n",
    "y.shape"
   ]
  },
  {
   "cell_type": "markdown",
   "metadata": {},
   "source": [
    "### comparing v_pot (x-axis) to v_sense (y-axis)"
   ]
  },
  {
   "cell_type": "code",
   "execution_count": 12,
   "metadata": {},
   "outputs": [
    {
     "data": {
      "text/plain": [
       "Text(0,0.13,'$i_{DS} = 0.146v_{pot} + 0.0026$')"
      ]
     },
     "execution_count": 12,
     "metadata": {},
     "output_type": "execute_result"
    },
    {
     "data": {
      "image/png": "[encoded data removed]",
      "text/plain": [
       "<matplotlib.figure.Figure at 0x1e57a6f8a20>"
      ]
     },
     "metadata": {},
     "output_type": "display_data"
    }
   ],
   "source": [
    "from sklearn.linear_model import LinearRegression\n",
    "model = LinearRegression()\n",
    "model.fit(X, y)\n",
    "fig, ax = plt.subplots()\n",
    "ax.clear()\n",
    "ax.scatter(dt_1_clean.v_pot, dt_1_clean.v_sense)\n",
    "X_test = np.linspace(0, 1.0, 20).reshape((-1, 1))\n",
    "\n",
    "y_model = model.predict(X_test)\n",
    "ax.plot(X_test, y_model)\n",
    "\n",
    "ax.grid()\n",
    "\n",
    "ax.set_ylabel('Control Voltage (V)')\n",
    "ax.set_xlabel('Sense voltage, $V_{sense} (V)$')\n",
    "\n",
    "\n",
    "ax.text(0,0.13, '$i_{DS} = 0.146v_{pot} + 0.0026$', \n",
    "       fontdict={'fontsize':15})"
   ]
  },
  {
   "cell_type": "code",
   "execution_count": 13,
   "metadata": {},
   "outputs": [
    {
     "data": {
      "text/plain": [
       "(0.0026051412473512212, 0.14634865041515419)"
      ]
     },
     "execution_count": 13,
     "metadata": {},
     "output_type": "execute_result"
    }
   ],
   "source": [
    "model.intercept_, model.coef_[0]"
   ]
  },
  {
   "cell_type": "markdown",
   "metadata": {},
   "source": [
    "### Comapring v_pot (x-axis) to i_ds (y-axis)"
   ]
  },
  {
   "cell_type": "code",
   "execution_count": 14,
   "metadata": {
    "collapsed": true
   },
   "outputs": [],
   "source": [
    "y_ids = dt_1_clean.i_ds"
   ]
  },
  {
   "cell_type": "code",
   "execution_count": 15,
   "metadata": {},
   "outputs": [
    {
     "data": {
      "text/plain": [
       "Text(0,3,'$i_{DS} = 3.369 0.034x$')"
      ]
     },
     "execution_count": 15,
     "metadata": {},
     "output_type": "execute_result"
    },
    {
     "data": {
      "image/png": "[encoded data removed]",
      "text/plain": [
       "<matplotlib.figure.Figure at 0x1e57c6ff710>"
      ]
     },
     "metadata": {},
     "output_type": "display_data"
    }
   ],
   "source": [
    "from sklearn.linear_model import LinearRegression\n",
    "model_2 = LinearRegression()\n",
    "model_2.fit(X, y_ids)\n",
    "\n",
    "fig, ax = plt.subplots()\n",
    "ax.scatter(dt_1_clean.v_pot, dt_1_clean.i_ds)\n",
    "X_test = np.linspace(0, 1.0, 20).reshape((-1, 1))\n",
    "\n",
    "y_model = model_2.predict(X_test)\n",
    "ax.plot(X_test, y_model)\n",
    "ax.grid()\n",
    "\n",
    "ax.set_ylabel('Control Voltage (V)')\n",
    "ax.set_xlabel('Drain Current, $i_{DS} (A)$')\n",
    "\n",
    "\n",
    "ax.text(0,3, '$i_{DS} = 3.369 0.034x$')"
   ]
  },
  {
   "cell_type": "code",
   "execution_count": null,
   "metadata": {
    "collapsed": true
   },
   "outputs": [],
   "source": []
  },
  {
   "cell_type": "code",
   "execution_count": 16,
   "metadata": {},
   "outputs": [
    {
     "data": {
      "text/plain": [
       "(0.034191458908288563, 3.3695299962128362)"
      ]
     },
     "execution_count": 16,
     "metadata": {},
     "output_type": "execute_result"
    }
   ],
   "source": [
    "model_2.intercept_, model_2.coef_[0]"
   ]
  },
  {
   "cell_type": "markdown",
   "metadata": {},
   "source": [
    "### Comapring v_sense (x-axis) to i_ds (y-axis)"
   ]
  },
  {
   "cell_type": "code",
   "execution_count": 20,
   "metadata": {},
   "outputs": [
    {
     "data": {
      "text/plain": [
       "(15, 1)"
      ]
     },
     "execution_count": 20,
     "metadata": {},
     "output_type": "execute_result"
    }
   ],
   "source": [
    "y_sense = dt_1_clean.v_sense\n",
    "X_ids = dt_1_clean.i_ds.values[:, np.newaxis]\n",
    "X_ids.shape"
   ]
  },
  {
   "cell_type": "code",
   "execution_count": 21,
   "metadata": {},
   "outputs": [
    {
     "data": {
      "text/plain": [
       "Text(0,0.13,'$V_{cont.} = 0.04i_{DS} + 0.001$')"
      ]
     },
     "execution_count": 21,
     "metadata": {},
     "output_type": "execute_result"
    },
    {
     "data": {
      "image/png": "[encoded data removed]",
      "text/plain": [
       "<matplotlib.figure.Figure at 0x1e57c85b470>"
      ]
     },
     "metadata": {},
     "output_type": "display_data"
    }
   ],
   "source": [
    "from sklearn.linear_model import LinearRegression\n",
    "model_3 = LinearRegression()\n",
    "model_3.fit(X_ids, y_sense)\n",
    "\n",
    "fig, ax = plt.subplots()\n",
    "ax.scatter(dt_1_clean.i_ds, dt_1_clean.v_sense)\n",
    "X_test = np.linspace(0, 3, 20).reshape((-1, 1))\n",
    "\n",
    "y_model = model_3.predict(X_test)\n",
    "ax.plot(X_test, y_model)\n",
    "ax.grid()\n",
    "\n",
    "ax.set_ylabel('Control Voltage, $V_{cont.}$ (V)')\n",
    "ax.set_xlabel('Drain Current, $i_{DS} (A)$')\n",
    "\n",
    "\n",
    "ax.text(0,0.13, '$V_{cont.} = 0.04i_{DS} + 0.001$',\n",
    "       fontdict={'fontsize':15})"
   ]
  },
  {
   "cell_type": "code",
   "execution_count": 22,
   "metadata": {
    "collapsed": true
   },
   "outputs": [],
   "source": [
    "save_figure('v_control_sense.png', fig)"
   ]
  },
  {
   "cell_type": "code",
   "execution_count": 23,
   "metadata": {},
   "outputs": [
    {
     "data": {
      "text/plain": [
       "(0.0011667989477151877, 0.043400428004099587)"
      ]
     },
     "execution_count": 23,
     "metadata": {},
     "output_type": "execute_result"
    }
   ],
   "source": [
    "model_3.intercept_, model_3.coef_[0]"
   ]
  },
  {
   "cell_type": "code",
   "execution_count": null,
   "metadata": {
    "collapsed": true
   },
   "outputs": [],
   "source": []
  }
 ],
 "metadata": {
  "kernelspec": {
   "display_name": "Python 3",
   "language": "python",
   "name": "python3"
  },
  "language_info": {
   "codemirror_mode": {
    "name": "ipython",
    "version": 3
   },
   "file_extension": ".py",
   "mimetype": "text/x-python",
   "name": "python",
   "nbconvert_exporter": "python",
   "pygments_lexer": "ipython3",
   "version": "3.6.3"
  }
 },
 "nbformat": 4,
 "nbformat_minor": 2
}
