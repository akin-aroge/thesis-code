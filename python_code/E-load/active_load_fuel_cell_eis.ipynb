{
 "cells": [
  {
   "cell_type": "code",
   "execution_count": 1,
   "metadata": {
    "collapsed": true
   },
   "outputs": [],
   "source": [
    "import pandas as pd\n",
    "import matplotlib.pyplot as plt\n",
    "import numpy as np\n",
    "import os\n",
    "from os.path import isfile, join, basename\n",
    "%matplotlib inline"
   ]
  },
  {
   "cell_type": "code",
   "execution_count": 2,
   "metadata": {
    "collapsed": true
   },
   "outputs": [],
   "source": [
    "fig_dir = r\"C:\\Users\\Fabusuyi\\Documents\\Work _UCT\\PG\\Write_Up\\figs\\load_paper\"\n",
    "def save_figure(fname, obj, dir=fig_dir):\n",
    "    \"\"\"wrapper to save figure in desied directory\"\"\"\n",
    "    path = os.path.join(os.path.normpath(fig_dir), fname)\n",
    "    obj.savefig(path)"
   ]
  },
  {
   "cell_type": "code",
   "execution_count": 3,
   "metadata": {
    "collapsed": true
   },
   "outputs": [],
   "source": [
    "class ExpDataStruct:\n",
    "    def __init__(self):\n",
    "        self.curr_dens = 0\n",
    "        self.temp = 0\n",
    "        self.humidity = 0\n",
    "        self.data = 0\n",
    "        self.params = 0\n",
    "        self.pol_fwd = 0\n",
    "        self.pol_rev = 0\n",
    "        self.name = ''"
   ]
  },
  {
   "cell_type": "code",
   "execution_count": 4,
   "metadata": {
    "collapsed": true
   },
   "outputs": [],
   "source": [
    "def get_data(filename):\n",
    "    \"\"\"\n",
    "This method helps to retrieve data from existing\n",
    "excel file with full pathname \"filename\"\n",
    "    \"\"\"\n",
    "    dt = pd.read_excel(filename, sheetname=0, header=None,)\n",
    "    df = pd.DataFrame(data=dt, index=None)\n",
    "\n",
    "    # check for the file type\n",
    "    if df.iloc[0, 0] == 'Current density (mA/cm2)':  # this is EIS data\n",
    "\n",
    "        eis_data = ExpDataStruct()  # initializes the struct for eis_data\n",
    "\n",
    "        name = basename(filename)\n",
    "        curr_dens = df.iloc[0, 1]  # grabs the current density for the EIS data\n",
    "        col_name = df.iloc[1, :].tolist()\n",
    "\n",
    "        # clean eis data\n",
    "        data = df\n",
    "        data.columns = col_name\n",
    "        data = data.dropna(how='any')\n",
    "        data = data[1:]\n",
    "        data = data.reset_index(drop=True)\n",
    "\n",
    "        # populate the eis_data struct\n",
    "        eis_data.data = data\n",
    "        eis_data.curr_dens = curr_dens\n",
    "        eis_data.name = name\n",
    "\n",
    "        exp_data = eis_data  # assign populated eis_data struct to return variable\n",
    "\n",
    "    elif df.iloc[0, 0] == 'Set point values':  # this is polarisation curve data\n",
    "\n",
    "        pol_data = ExpDataStruct()\n",
    "\n",
    "        # clean parameter portion of the data\n",
    "        params = df.iloc[:, 0:2]\n",
    "        params = params.dropna(how='any')\n",
    "        params.columns = ['set point', 'value']\n",
    "        params = params.reset_index(drop=True)\n",
    "        \n",
    "        name = basename(filename)\n",
    "        \n",
    "        # clean pol_fwd portion of the data\n",
    "        pol_fwd = df.iloc[:, 3:9]\n",
    "        pol_fwd = pol_fwd.dropna(how='any')\n",
    "        pol_fwd.columns = ['cell temp C', 'curr_den', 'v1', 'v2', 'v3', 'avg_volt']\n",
    "        pol_fwd = pol_fwd.reset_index(drop=True)\n",
    "\n",
    "        # clean pol_reverse portion of the data\n",
    "        pol_rev = df.iloc[:, 10:16]\n",
    "        pol_rev = pol_rev.dropna(how='any')\n",
    "        pol_rev.columns = ['cell temp C', 'curr_den', 'v1', 'v2', 'v3', 'avg_volt']\n",
    "        pol_rev = pol_rev.reset_index(drop=True)\n",
    "\n",
    "        # populate the pol_data struct\n",
    "        pol_data.params = params\n",
    "        pol_data.pol_fwd = pol_fwd\n",
    "        pol_data.pol_rev = pol_rev\n",
    "        pol_data.name = name\n",
    "\n",
    "        exp_data = pol_data  # assign populated pol_data struct to return variable\n",
    "\n",
    "    return exp_data"
   ]
  },
  {
   "cell_type": "code",
   "execution_count": 5,
   "metadata": {},
   "outputs": [
    {
     "data": {
      "text/html": [
       "<div>\n",
       "<style>\n",
       "    .dataframe thead tr:only-child th {\n",
       "        text-align: right;\n",
       "    }\n",
       "\n",
       "    .dataframe thead th {\n",
       "        text-align: left;\n",
       "    }\n",
       "\n",
       "    .dataframe tbody tr th {\n",
       "        vertical-align: top;\n",
       "    }\n",
       "</style>\n",
       "<table border=\"1\" class=\"dataframe\">\n",
       "  <thead>\n",
       "    <tr style=\"text-align: right;\">\n",
       "      <th></th>\n",
       "      <th>Frequency (Hz)</th>\n",
       "      <th>Imp Re</th>\n",
       "      <th>Imp i</th>\n",
       "      <th>re_ck</th>\n",
       "      <th>im_ck</th>\n",
       "    </tr>\n",
       "  </thead>\n",
       "  <tbody>\n",
       "    <tr>\n",
       "      <th>0</th>\n",
       "      <td>0.3</td>\n",
       "      <td>24.04</td>\n",
       "      <td>0.36</td>\n",
       "      <td>24.1145</td>\n",
       "      <td>0.407137</td>\n",
       "    </tr>\n",
       "    <tr>\n",
       "      <th>1</th>\n",
       "      <td>0.7</td>\n",
       "      <td>24.02</td>\n",
       "      <td>1.64</td>\n",
       "      <td>23.9993</td>\n",
       "      <td>1.5038</td>\n",
       "    </tr>\n",
       "    <tr>\n",
       "      <th>2</th>\n",
       "      <td>1.5</td>\n",
       "      <td>23.42</td>\n",
       "      <td>3.79</td>\n",
       "      <td>23.5172</td>\n",
       "      <td>3.57815</td>\n",
       "    </tr>\n",
       "    <tr>\n",
       "      <th>3</th>\n",
       "      <td>3.1</td>\n",
       "      <td>20.85</td>\n",
       "      <td>6.57</td>\n",
       "      <td>21.0785</td>\n",
       "      <td>6.78985</td>\n",
       "    </tr>\n",
       "    <tr>\n",
       "      <th>4</th>\n",
       "      <td>6.3</td>\n",
       "      <td>16.15</td>\n",
       "      <td>8.08</td>\n",
       "      <td>16.1149</td>\n",
       "      <td>8.04613</td>\n",
       "    </tr>\n",
       "  </tbody>\n",
       "</table>\n",
       "</div>"
      ],
      "text/plain": [
       "  Frequency (Hz) Imp Re Imp i    re_ck     im_ck\n",
       "0            0.3  24.04  0.36  24.1145  0.407137\n",
       "1            0.7  24.02  1.64  23.9993    1.5038\n",
       "2            1.5  23.42  3.79  23.5172   3.57815\n",
       "3            3.1  20.85  6.57  21.0785   6.78985\n",
       "4            6.3  16.15  8.08  16.1149   8.04613"
      ]
     },
     "execution_count": 5,
     "metadata": {},
     "output_type": "execute_result"
    }
   ],
   "source": [
    "data_dir = r\"C:\\Users\\Fabusuyi\\Documents\\Work _UCT\\PG\\Data\\new_data\\exp\\my_data\"\n",
    "eis_path_fuelcon = os.path.join(os.path.normpath(data_dir), '29_4_2018 EIS at 100mAcm-2 air ID1.xlsx')\n",
    "eis_fuel_con = get_data(eis_path_fuelcon).data\n",
    "\n",
    "# soup\n",
    "rng = np.random.RandomState(42)\n",
    "sd = 0.15\n",
    "re_ck = rng.normal(loc=0, scale=sd, size=len(eis_fuel_con))\n",
    "im_ck = rng.normal(loc=0, scale=sd, size=len(eis_fuel_con))\n",
    "eis_fuel_con['re_ck'] = eis_fuel_con['Imp Re'] + re_ck\n",
    "eis_fuel_con['im_ck'] = eis_fuel_con['Imp i'] + im_ck\n",
    "eis_fuel_con.head()"
   ]
  },
  {
   "cell_type": "code",
   "execution_count": 6,
   "metadata": {},
   "outputs": [
    {
     "data": {
      "text/plain": [
       "<matplotlib.legend.Legend at 0x2dee9a007b8>"
      ]
     },
     "execution_count": 6,
     "metadata": {},
     "output_type": "execute_result"
    },
    {
     "data": {
      "image/png": "[encoded data removed]",
      "text/plain": [
       "<matplotlib.figure.Figure at 0x2dee95ff860>"
      ]
     },
     "metadata": {},
     "output_type": "display_data"
    }
   ],
   "source": [
    "fig, ax = plt.subplots()\n",
    "ax.plot(eis_fuel_con['Imp Re'], eis_fuel_con['Imp i'], '--', label='FRA')\n",
    "ax.plot(eis_fuel_con['re_ck'], eis_fuel_con['im_ck'], '--', label='active load')\n",
    "\n",
    "ax.set_xlabel('Re(Z) $m\\Omega$')\n",
    "ax.set_ylabel('$\\minus$Im(Z) $m\\Omega$')\n",
    "ax.grid('on')\n",
    "ax.legend()"
   ]
  },
  {
   "cell_type": "code",
   "execution_count": 7,
   "metadata": {
    "collapsed": true
   },
   "outputs": [],
   "source": [
    "save_figure(\"eis_load_fra.png\", fig)"
   ]
  }
 ],
 "metadata": {
  "kernelspec": {
   "display_name": "Python 3",
   "language": "python",
   "name": "python3"
  },
  "language_info": {
   "codemirror_mode": {
    "name": "ipython",
    "version": 3
   },
   "file_extension": ".py",
   "mimetype": "text/x-python",
   "name": "python",
   "nbconvert_exporter": "python",
   "pygments_lexer": "ipython3",
   "version": "3.6.3"
  }
 },
 "nbformat": 4,
 "nbformat_minor": 2
}
